{
  "nbformat": 4,
  "nbformat_minor": 0,
  "metadata": {
    "colab": {
      "provenance": []
    },
    "kernelspec": {
      "name": "python3",
      "display_name": "Python 3"
    },
    "language_info": {
      "name": "python"
    }
  },
  "cells": [
    {
      "cell_type": "code",
      "execution_count": 1,
      "metadata": {
        "colab": {
          "base_uri": "https://localhost:8080/"
        },
        "id": "flk6FyPSe8Ik",
        "outputId": "a2f3f6fa-febf-4b16-e11f-3a5e0717f570"
      },
      "outputs": [
        {
          "output_type": "stream",
          "name": "stderr",
          "text": [
            "[nltk_data] Downloading package stopwords to /root/nltk_data...\n",
            "[nltk_data]   Unzipping corpora/stopwords.zip.\n",
            "[nltk_data] Downloading package punkt to /root/nltk_data...\n",
            "[nltk_data]   Unzipping tokenizers/punkt.zip.\n",
            "[nltk_data] Downloading package wordnet to /root/nltk_data...\n",
            "[nltk_data] Downloading package omw-1.4 to /root/nltk_data...\n",
            "[nltk_data] Downloading package vader_lexicon to /root/nltk_data...\n"
          ]
        }
      ],
      "source": [
        "import numpy as np\n",
        "import pandas as pd\n",
        "import matplotlib.pyplot as plt\n",
        "import re\n",
        "import seaborn as sns\n",
        "\n",
        "import nltk\n",
        "nltk.download(['stopwords',\n",
        "               'punkt',\n",
        "               'wordnet',\n",
        "               'omw-1.4',\n",
        "               'vader_lexicon']\n",
        "    \n",
        ")\n",
        "%matplotlib inline"
      ]
    },
    {
      "cell_type": "code",
      "source": [
        "Dataset =pd.read_csv('/content/tourist_accommodation_reviews.csv', encoding= 'unicode_escape')"
      ],
      "metadata": {
        "id": "dfQCUbu3hniH"
      },
      "execution_count": null,
      "outputs": []
    },
    {
      "cell_type": "code",
      "source": [
        "Dataset_place = pd.read_csv('/content/place based.csv', encoding= 'unicode_escape')"
      ],
      "metadata": {
        "id": "gdTMGtbtACzG"
      },
      "execution_count": 3,
      "outputs": []
    },
    {
      "cell_type": "code",
      "source": [
        "Dataset_year = pd.read_csv('/content/hotel_by_year.csv', encoding= 'unicode_escape')"
      ],
      "metadata": {
        "id": "itEDtkWnCh5W"
      },
      "execution_count": 2,
      "outputs": []
    },
    {
      "cell_type": "code",
      "source": [
        "# as there were two different aspect for analysis that why two differrent dataset was applied place and year basis .\n",
        "#so both are done in same code file and that is why one line is comentedin every code , \n",
        "#when need to run the other dataset then previousline will be commented."
      ],
      "metadata": {
        "id": "uNEcVS5hruPb"
      },
      "execution_count": 32,
      "outputs": []
    },
    {
      "cell_type": "markdown",
      "source": [],
      "metadata": {
        "id": "7zQLYY6ysRmW"
      }
    },
    {
      "cell_type": "markdown",
      "source": [],
      "metadata": {
        "id": "5HNn5lrmAS-Y"
      }
    },
    {
      "cell_type": "code",
      "source": [
        "#Dataset_place.head\n",
        "Dataset_year.head"
      ],
      "metadata": {
        "colab": {
          "base_uri": "https://localhost:8080/"
        },
        "id": "AEDIwovmk2cN",
        "outputId": "391db12a-5865-4bad-dd1a-ab510ad2c840"
      },
      "execution_count": 3,
      "outputs": [
        {
          "output_type": "execute_result",
          "data": {
            "text/plain": [
              "<bound method NDFrame.head of               ID               Review Date           Location  \\\n",
              "0    rn572905503  Reviewed April 12, 2018               Kathu   \n",
              "1    rn572364712  Reviewed April 10, 2018               Kathu   \n",
              "2    rn572308369   Reviewed April 9, 2018               Kathu   \n",
              "3    rn572053040   Reviewed April 8, 2018               Kathu   \n",
              "4    rn571915434   Reviewed April 8, 2018               Kathu   \n",
              "..           ...                       ...                ...   \n",
              "951  rn133364133    Reviewed July 3, 2012    Thalang District   \n",
              "952  rn131065795    Reviewed June 1, 2012    Thalang District   \n",
              "953  rn129609827     Reviewed May 8, 2012    Thalang District   \n",
              "954  rn128526031  Reviewed April 24, 2012    Thalang District   \n",
              "955  rn125726434   Reviewed March 6, 2012    Thalang District   \n",
              "\n",
              "             Hotel/Restaurant name  \\\n",
              "0    Thong Dee The Kathu Brasserie   \n",
              "1    Thong Dee The Kathu Brasserie   \n",
              "2    Thong Dee The Kathu Brasserie   \n",
              "3    Thong Dee The Kathu Brasserie   \n",
              "4    Thong Dee The Kathu Brasserie   \n",
              "..                             ...   \n",
              "951                          Chaba   \n",
              "952                          Chaba   \n",
              "953                          Chaba   \n",
              "954                          Chaba   \n",
              "955                          Chaba   \n",
              "\n",
              "                                                Review  \n",
              "0    We visit here regularly and never fail to be i...  \n",
              "1    Visited this wonderful place on my travels and...  \n",
              "2    We travel to Phuket every year from Australia ...  \n",
              "3    Had roast beef and lamb plenty of it and very ...  \n",
              "4    This place has a lot to learn when it comes to...  \n",
              "..                                                 ...  \n",
              "951  Just been to Chaba for dinner as there isn't m...  \n",
              "952  The most awful experience. The wait staff was ...  \n",
              "953  We went as a family. We enjoyed it and not too...  \n",
              "954  The food was very good I had a pineapple fille...  \n",
              "955  We had booked with another restaurant but afte...  \n",
              "\n",
              "[956 rows x 5 columns]>"
            ]
          },
          "metadata": {},
          "execution_count": 3
        }
      ]
    },
    {
      "cell_type": "code",
      "source": [
        "#print(Dataset_place['Location'].unique())\n",
        "print(Dataset_year['Location'].unique())"
      ],
      "metadata": {
        "colab": {
          "base_uri": "https://localhost:8080/"
        },
        "id": "HHLTrI6vk2ep",
        "outputId": "d83be06c-25cf-484c-a708-e7e3ec7d8f12"
      },
      "execution_count": 4,
      "outputs": [
        {
          "output_type": "stream",
          "name": "stdout",
          "text": [
            "[' Kathu' ' Kata Beach' ' Karon Beach' ' Choeng Thale' ' Patong' ' Karon'\n",
            " ' Rawai' ' Thalang District' ' Phuket Town']\n"
          ]
        }
      ]
    },
    {
      "cell_type": "code",
      "source": [
        "#Dataset_place['Location'].value_counts()\n",
        "#Dataset['Location'].value_counts()\n",
        "Dataset_year['Location'].value_counts()"
      ],
      "metadata": {
        "colab": {
          "base_uri": "https://localhost:8080/"
        },
        "id": "w3Vff7UUk2iH",
        "outputId": "a1689aec-24dc-4887-b971-0cebfebe2126"
      },
      "execution_count": 5,
      "outputs": [
        {
          "output_type": "execute_result",
          "data": {
            "text/plain": [
              " Kata Beach          256\n",
              " Choeng Thale        204\n",
              " Patong              133\n",
              " Rawai                84\n",
              " Karon Beach          80\n",
              " Thalang District     60\n",
              " Karon                59\n",
              " Kathu                51\n",
              " Phuket Town          29\n",
              "Name: Location, dtype: int64"
            ]
          },
          "metadata": {},
          "execution_count": 5
        }
      ]
    },
    {
      "cell_type": "code",
      "source": [
        "#Dataset_place['Hotel/Restaurant name'].value_counts()\n",
        "Dataset_year['Hotel/Restaurant name'].value_counts()"
      ],
      "metadata": {
        "colab": {
          "base_uri": "https://localhost:8080/"
        },
        "id": "Ykvyw5oonPwD",
        "outputId": "931e000d-2c1f-4ee9-e3f8-c3207ea64a70"
      },
      "execution_count": 6,
      "outputs": [
        {
          "output_type": "execute_result",
          "data": {
            "text/plain": [
              "Siam Supper Club                       86\n",
              "EAT. bar & grill                       80\n",
              "The Tavern                             59\n",
              "Odysseus Greek Organic Restaurant      59\n",
              "Thong Dee The Kathu Brasserie          51\n",
              "Sam's Steaks and Grill                 48\n",
              "Highway Curry Indian & Thai Cuisine    48\n",
              "Kataturk Turkish Restaurant            46\n",
              "Pad Thai Shop                          42\n",
              "The Corner Restaurant                  42\n",
              "Little Paris                           40\n",
              "Istanbul Turkish Restaurant            40\n",
              "Mali Seafood Restaurant & Bar          35\n",
              "Nok and Jo's Restaurant                22\n",
              "Sabai Beach Restaurant                 22\n",
              "Modena                                 22\n",
              "Rawai View Cafe' & Bar                 20\n",
              "Saffron at Banyan Tree Phuket          20\n",
              "Navrang Mahal                          17\n",
              "The Ship Inn                           17\n",
              "La Gaetana                             15\n",
              "Delish Cafe                            15\n",
              "The Red Tablecloth                     15\n",
              "La Piazzetta di Capri Patong           15\n",
              "Naiyang Park Restaurant                15\n",
              "Bon Island Restaurant                  15\n",
              "9' Sea Breeze                          14\n",
              "Uptown Restaurant                      14\n",
              "The Green Man Pub                      12\n",
              "Chaba                                  10\n",
              "Name: Hotel/Restaurant name, dtype: int64"
            ]
          },
          "metadata": {},
          "execution_count": 6
        }
      ]
    },
    {
      "cell_type": "code",
      "source": [
        "from nltk.sentiment.vader import SentimentIntensityAnalyzer\n",
        "sentiment = SentimentIntensityAnalyzer()\n",
        "print(sentiment.polarity_scores('the hotel is not good'))\n"
      ],
      "metadata": {
        "colab": {
          "base_uri": "https://localhost:8080/"
        },
        "id": "_2nmYqoBnQEE",
        "outputId": "75be0ca4-7589-4c5c-fac1-f9d43911b93a"
      },
      "execution_count": 7,
      "outputs": [
        {
          "output_type": "stream",
          "name": "stdout",
          "text": [
            "{'neg': 0.376, 'neu': 0.624, 'pos': 0.0, 'compound': -0.3412}\n"
          ]
        }
      ]
    },
    {
      "cell_type": "markdown",
      "source": [],
      "metadata": {
        "id": "jib9KvhglRe4"
      }
    },
    {
      "cell_type": "code",
      "source": [
        "Dataset_place['compound'] = [sentiment.polarity_scores(review)['compound'] for review in Dataset_place['Review']]\n",
        "Dataset_place['neg'] = [sentiment.polarity_scores(review)['neg'] for review in Dataset_place['Review']]\n",
        "Dataset_place['neu'] = [sentiment.polarity_scores(review)['neu'] for review in Dataset_place['Review']]\n",
        "Dataset_place['pos'] = [sentiment.polarity_scores(review)['pos'] for review in Dataset_place['Review']]"
      ],
      "metadata": {
        "id": "SCaMuR8SehuI"
      },
      "execution_count": 9,
      "outputs": []
    },
    {
      "cell_type": "code",
      "source": [
        "Dataset_year['compound'] = [sentiment.polarity_scores(review)['compound'] for review in Dataset_year['Review']]\n",
        "Dataset_year['neg'] = [sentiment.polarity_scores(review)['neg'] for review in Dataset_year['Review']]\n",
        "Dataset_year['neu'] = [sentiment.polarity_scores(review)['neu'] for review in Dataset_year['Review']]\n",
        "Dataset_year['pos'] = [sentiment.polarity_scores(review)['pos'] for review in Dataset_year['Review']]"
      ],
      "metadata": {
        "id": "W9PkfubAclMz"
      },
      "execution_count": 8,
      "outputs": []
    },
    {
      "cell_type": "code",
      "source": [
        "#Dataset_place.head()\n",
        "Dataset_year.head()"
      ],
      "metadata": {
        "colab": {
          "base_uri": "https://localhost:8080/",
          "height": 337
        },
        "id": "NQM1ufdnhJ9y",
        "outputId": "4141987b-5985-4f13-be70-ed0659355c70"
      },
      "execution_count": 10,
      "outputs": [
        {
          "output_type": "execute_result",
          "data": {
            "text/plain": [
              "            ID               Review Date Location  \\\n",
              "0  rn572905503  Reviewed April 12, 2018     Kathu   \n",
              "1  rn572364712  Reviewed April 10, 2018     Kathu   \n",
              "2  rn572308369   Reviewed April 9, 2018     Kathu   \n",
              "3  rn572053040   Reviewed April 8, 2018     Kathu   \n",
              "4  rn571915434   Reviewed April 8, 2018     Kathu   \n",
              "\n",
              "           Hotel/Restaurant name  \\\n",
              "0  Thong Dee The Kathu Brasserie   \n",
              "1  Thong Dee The Kathu Brasserie   \n",
              "2  Thong Dee The Kathu Brasserie   \n",
              "3  Thong Dee The Kathu Brasserie   \n",
              "4  Thong Dee The Kathu Brasserie   \n",
              "\n",
              "                                              Review  compound    neg    neu  \\\n",
              "0  We visit here regularly and never fail to be i...    0.8419  0.000  0.823   \n",
              "1  Visited this wonderful place on my travels and...    0.9734  0.000  0.557   \n",
              "2  We travel to Phuket every year from Australia ...    0.9633  0.000  0.650   \n",
              "3  Had roast beef and lamb plenty of it and very ...   -0.3691  0.116  0.840   \n",
              "4  This place has a lot to learn when it comes to...    0.8382  0.000  0.817   \n",
              "\n",
              "     pos  \n",
              "0  0.177  \n",
              "1  0.443  \n",
              "2  0.350  \n",
              "3  0.044  \n",
              "4  0.183  "
            ],
            "text/html": [
              "\n",
              "  <div id=\"df-adf14d4e-7e64-46ff-99d3-9c63464de679\">\n",
              "    <div class=\"colab-df-container\">\n",
              "      <div>\n",
              "<style scoped>\n",
              "    .dataframe tbody tr th:only-of-type {\n",
              "        vertical-align: middle;\n",
              "    }\n",
              "\n",
              "    .dataframe tbody tr th {\n",
              "        vertical-align: top;\n",
              "    }\n",
              "\n",
              "    .dataframe thead th {\n",
              "        text-align: right;\n",
              "    }\n",
              "</style>\n",
              "<table border=\"1\" class=\"dataframe\">\n",
              "  <thead>\n",
              "    <tr style=\"text-align: right;\">\n",
              "      <th></th>\n",
              "      <th>ID</th>\n",
              "      <th>Review Date</th>\n",
              "      <th>Location</th>\n",
              "      <th>Hotel/Restaurant name</th>\n",
              "      <th>Review</th>\n",
              "      <th>compound</th>\n",
              "      <th>neg</th>\n",
              "      <th>neu</th>\n",
              "      <th>pos</th>\n",
              "    </tr>\n",
              "  </thead>\n",
              "  <tbody>\n",
              "    <tr>\n",
              "      <th>0</th>\n",
              "      <td>rn572905503</td>\n",
              "      <td>Reviewed April 12, 2018</td>\n",
              "      <td>Kathu</td>\n",
              "      <td>Thong Dee The Kathu Brasserie</td>\n",
              "      <td>We visit here regularly and never fail to be i...</td>\n",
              "      <td>0.8419</td>\n",
              "      <td>0.000</td>\n",
              "      <td>0.823</td>\n",
              "      <td>0.177</td>\n",
              "    </tr>\n",
              "    <tr>\n",
              "      <th>1</th>\n",
              "      <td>rn572364712</td>\n",
              "      <td>Reviewed April 10, 2018</td>\n",
              "      <td>Kathu</td>\n",
              "      <td>Thong Dee The Kathu Brasserie</td>\n",
              "      <td>Visited this wonderful place on my travels and...</td>\n",
              "      <td>0.9734</td>\n",
              "      <td>0.000</td>\n",
              "      <td>0.557</td>\n",
              "      <td>0.443</td>\n",
              "    </tr>\n",
              "    <tr>\n",
              "      <th>2</th>\n",
              "      <td>rn572308369</td>\n",
              "      <td>Reviewed April 9, 2018</td>\n",
              "      <td>Kathu</td>\n",
              "      <td>Thong Dee The Kathu Brasserie</td>\n",
              "      <td>We travel to Phuket every year from Australia ...</td>\n",
              "      <td>0.9633</td>\n",
              "      <td>0.000</td>\n",
              "      <td>0.650</td>\n",
              "      <td>0.350</td>\n",
              "    </tr>\n",
              "    <tr>\n",
              "      <th>3</th>\n",
              "      <td>rn572053040</td>\n",
              "      <td>Reviewed April 8, 2018</td>\n",
              "      <td>Kathu</td>\n",
              "      <td>Thong Dee The Kathu Brasserie</td>\n",
              "      <td>Had roast beef and lamb plenty of it and very ...</td>\n",
              "      <td>-0.3691</td>\n",
              "      <td>0.116</td>\n",
              "      <td>0.840</td>\n",
              "      <td>0.044</td>\n",
              "    </tr>\n",
              "    <tr>\n",
              "      <th>4</th>\n",
              "      <td>rn571915434</td>\n",
              "      <td>Reviewed April 8, 2018</td>\n",
              "      <td>Kathu</td>\n",
              "      <td>Thong Dee The Kathu Brasserie</td>\n",
              "      <td>This place has a lot to learn when it comes to...</td>\n",
              "      <td>0.8382</td>\n",
              "      <td>0.000</td>\n",
              "      <td>0.817</td>\n",
              "      <td>0.183</td>\n",
              "    </tr>\n",
              "  </tbody>\n",
              "</table>\n",
              "</div>\n",
              "      <button class=\"colab-df-convert\" onclick=\"convertToInteractive('df-adf14d4e-7e64-46ff-99d3-9c63464de679')\"\n",
              "              title=\"Convert this dataframe to an interactive table.\"\n",
              "              style=\"display:none;\">\n",
              "        \n",
              "  <svg xmlns=\"http://www.w3.org/2000/svg\" height=\"24px\"viewBox=\"0 0 24 24\"\n",
              "       width=\"24px\">\n",
              "    <path d=\"M0 0h24v24H0V0z\" fill=\"none\"/>\n",
              "    <path d=\"M18.56 5.44l.94 2.06.94-2.06 2.06-.94-2.06-.94-.94-2.06-.94 2.06-2.06.94zm-11 1L8.5 8.5l.94-2.06 2.06-.94-2.06-.94L8.5 2.5l-.94 2.06-2.06.94zm10 10l.94 2.06.94-2.06 2.06-.94-2.06-.94-.94-2.06-.94 2.06-2.06.94z\"/><path d=\"M17.41 7.96l-1.37-1.37c-.4-.4-.92-.59-1.43-.59-.52 0-1.04.2-1.43.59L10.3 9.45l-7.72 7.72c-.78.78-.78 2.05 0 2.83L4 21.41c.39.39.9.59 1.41.59.51 0 1.02-.2 1.41-.59l7.78-7.78 2.81-2.81c.8-.78.8-2.07 0-2.86zM5.41 20L4 18.59l7.72-7.72 1.47 1.35L5.41 20z\"/>\n",
              "  </svg>\n",
              "      </button>\n",
              "      \n",
              "  <style>\n",
              "    .colab-df-container {\n",
              "      display:flex;\n",
              "      flex-wrap:wrap;\n",
              "      gap: 12px;\n",
              "    }\n",
              "\n",
              "    .colab-df-convert {\n",
              "      background-color: #E8F0FE;\n",
              "      border: none;\n",
              "      border-radius: 50%;\n",
              "      cursor: pointer;\n",
              "      display: none;\n",
              "      fill: #1967D2;\n",
              "      height: 32px;\n",
              "      padding: 0 0 0 0;\n",
              "      width: 32px;\n",
              "    }\n",
              "\n",
              "    .colab-df-convert:hover {\n",
              "      background-color: #E2EBFA;\n",
              "      box-shadow: 0px 1px 2px rgba(60, 64, 67, 0.3), 0px 1px 3px 1px rgba(60, 64, 67, 0.15);\n",
              "      fill: #174EA6;\n",
              "    }\n",
              "\n",
              "    [theme=dark] .colab-df-convert {\n",
              "      background-color: #3B4455;\n",
              "      fill: #D2E3FC;\n",
              "    }\n",
              "\n",
              "    [theme=dark] .colab-df-convert:hover {\n",
              "      background-color: #434B5C;\n",
              "      box-shadow: 0px 1px 3px 1px rgba(0, 0, 0, 0.15);\n",
              "      filter: drop-shadow(0px 1px 2px rgba(0, 0, 0, 0.3));\n",
              "      fill: #FFFFFF;\n",
              "    }\n",
              "  </style>\n",
              "\n",
              "      <script>\n",
              "        const buttonEl =\n",
              "          document.querySelector('#df-adf14d4e-7e64-46ff-99d3-9c63464de679 button.colab-df-convert');\n",
              "        buttonEl.style.display =\n",
              "          google.colab.kernel.accessAllowed ? 'block' : 'none';\n",
              "\n",
              "        async function convertToInteractive(key) {\n",
              "          const element = document.querySelector('#df-adf14d4e-7e64-46ff-99d3-9c63464de679');\n",
              "          const dataTable =\n",
              "            await google.colab.kernel.invokeFunction('convertToInteractive',\n",
              "                                                     [key], {});\n",
              "          if (!dataTable) return;\n",
              "\n",
              "          const docLinkHtml = 'Like what you see? Visit the ' +\n",
              "            '<a target=\"_blank\" href=https://colab.research.google.com/notebooks/data_table.ipynb>data table notebook</a>'\n",
              "            + ' to learn more about interactive tables.';\n",
              "          element.innerHTML = '';\n",
              "          dataTable['output_type'] = 'display_data';\n",
              "          await google.colab.output.renderOutput(dataTable, element);\n",
              "          const docLink = document.createElement('div');\n",
              "          docLink.innerHTML = docLinkHtml;\n",
              "          element.appendChild(docLink);\n",
              "        }\n",
              "      </script>\n",
              "    </div>\n",
              "  </div>\n",
              "  "
            ]
          },
          "metadata": {},
          "execution_count": 10
        }
      ]
    },
    {
      "cell_type": "code",
      "source": [
        "Dataset_place[['compound', 'neg', 'neu', 'pos']].describe()"
      ],
      "metadata": {
        "colab": {
          "base_uri": "https://localhost:8080/",
          "height": 300
        },
        "id": "cvG-VF2jkeJi",
        "outputId": "0e46070d-554a-45ee-b9c8-d3912718484f"
      },
      "execution_count": null,
      "outputs": [
        {
          "output_type": "execute_result",
          "data": {
            "text/plain": [
              "         compound         neg         neu         pos\n",
              "count  956.000000  956.000000  956.000000  956.000000\n",
              "mean     0.711520    0.021363    0.730735    0.247899\n",
              "std      0.359694    0.041876    0.127060    0.133223\n",
              "min     -0.926600    0.000000    0.320000    0.000000\n",
              "25%      0.657025    0.000000    0.643750    0.149000\n",
              "50%      0.859100    0.000000    0.734000    0.246500\n",
              "75%      0.929925    0.035000    0.819000    0.338000\n",
              "max      0.989800    0.322000    1.000000    0.680000"
            ],
            "text/html": [
              "\n",
              "  <div id=\"df-210a2add-3bda-40c3-922e-b3aaf3d4142e\">\n",
              "    <div class=\"colab-df-container\">\n",
              "      <div>\n",
              "<style scoped>\n",
              "    .dataframe tbody tr th:only-of-type {\n",
              "        vertical-align: middle;\n",
              "    }\n",
              "\n",
              "    .dataframe tbody tr th {\n",
              "        vertical-align: top;\n",
              "    }\n",
              "\n",
              "    .dataframe thead th {\n",
              "        text-align: right;\n",
              "    }\n",
              "</style>\n",
              "<table border=\"1\" class=\"dataframe\">\n",
              "  <thead>\n",
              "    <tr style=\"text-align: right;\">\n",
              "      <th></th>\n",
              "      <th>compound</th>\n",
              "      <th>neg</th>\n",
              "      <th>neu</th>\n",
              "      <th>pos</th>\n",
              "    </tr>\n",
              "  </thead>\n",
              "  <tbody>\n",
              "    <tr>\n",
              "      <th>count</th>\n",
              "      <td>956.000000</td>\n",
              "      <td>956.000000</td>\n",
              "      <td>956.000000</td>\n",
              "      <td>956.000000</td>\n",
              "    </tr>\n",
              "    <tr>\n",
              "      <th>mean</th>\n",
              "      <td>0.711520</td>\n",
              "      <td>0.021363</td>\n",
              "      <td>0.730735</td>\n",
              "      <td>0.247899</td>\n",
              "    </tr>\n",
              "    <tr>\n",
              "      <th>std</th>\n",
              "      <td>0.359694</td>\n",
              "      <td>0.041876</td>\n",
              "      <td>0.127060</td>\n",
              "      <td>0.133223</td>\n",
              "    </tr>\n",
              "    <tr>\n",
              "      <th>min</th>\n",
              "      <td>-0.926600</td>\n",
              "      <td>0.000000</td>\n",
              "      <td>0.320000</td>\n",
              "      <td>0.000000</td>\n",
              "    </tr>\n",
              "    <tr>\n",
              "      <th>25%</th>\n",
              "      <td>0.657025</td>\n",
              "      <td>0.000000</td>\n",
              "      <td>0.643750</td>\n",
              "      <td>0.149000</td>\n",
              "    </tr>\n",
              "    <tr>\n",
              "      <th>50%</th>\n",
              "      <td>0.859100</td>\n",
              "      <td>0.000000</td>\n",
              "      <td>0.734000</td>\n",
              "      <td>0.246500</td>\n",
              "    </tr>\n",
              "    <tr>\n",
              "      <th>75%</th>\n",
              "      <td>0.929925</td>\n",
              "      <td>0.035000</td>\n",
              "      <td>0.819000</td>\n",
              "      <td>0.338000</td>\n",
              "    </tr>\n",
              "    <tr>\n",
              "      <th>max</th>\n",
              "      <td>0.989800</td>\n",
              "      <td>0.322000</td>\n",
              "      <td>1.000000</td>\n",
              "      <td>0.680000</td>\n",
              "    </tr>\n",
              "  </tbody>\n",
              "</table>\n",
              "</div>\n",
              "      <button class=\"colab-df-convert\" onclick=\"convertToInteractive('df-210a2add-3bda-40c3-922e-b3aaf3d4142e')\"\n",
              "              title=\"Convert this dataframe to an interactive table.\"\n",
              "              style=\"display:none;\">\n",
              "        \n",
              "  <svg xmlns=\"http://www.w3.org/2000/svg\" height=\"24px\"viewBox=\"0 0 24 24\"\n",
              "       width=\"24px\">\n",
              "    <path d=\"M0 0h24v24H0V0z\" fill=\"none\"/>\n",
              "    <path d=\"M18.56 5.44l.94 2.06.94-2.06 2.06-.94-2.06-.94-.94-2.06-.94 2.06-2.06.94zm-11 1L8.5 8.5l.94-2.06 2.06-.94-2.06-.94L8.5 2.5l-.94 2.06-2.06.94zm10 10l.94 2.06.94-2.06 2.06-.94-2.06-.94-.94-2.06-.94 2.06-2.06.94z\"/><path d=\"M17.41 7.96l-1.37-1.37c-.4-.4-.92-.59-1.43-.59-.52 0-1.04.2-1.43.59L10.3 9.45l-7.72 7.72c-.78.78-.78 2.05 0 2.83L4 21.41c.39.39.9.59 1.41.59.51 0 1.02-.2 1.41-.59l7.78-7.78 2.81-2.81c.8-.78.8-2.07 0-2.86zM5.41 20L4 18.59l7.72-7.72 1.47 1.35L5.41 20z\"/>\n",
              "  </svg>\n",
              "      </button>\n",
              "      \n",
              "  <style>\n",
              "    .colab-df-container {\n",
              "      display:flex;\n",
              "      flex-wrap:wrap;\n",
              "      gap: 12px;\n",
              "    }\n",
              "\n",
              "    .colab-df-convert {\n",
              "      background-color: #E8F0FE;\n",
              "      border: none;\n",
              "      border-radius: 50%;\n",
              "      cursor: pointer;\n",
              "      display: none;\n",
              "      fill: #1967D2;\n",
              "      height: 32px;\n",
              "      padding: 0 0 0 0;\n",
              "      width: 32px;\n",
              "    }\n",
              "\n",
              "    .colab-df-convert:hover {\n",
              "      background-color: #E2EBFA;\n",
              "      box-shadow: 0px 1px 2px rgba(60, 64, 67, 0.3), 0px 1px 3px 1px rgba(60, 64, 67, 0.15);\n",
              "      fill: #174EA6;\n",
              "    }\n",
              "\n",
              "    [theme=dark] .colab-df-convert {\n",
              "      background-color: #3B4455;\n",
              "      fill: #D2E3FC;\n",
              "    }\n",
              "\n",
              "    [theme=dark] .colab-df-convert:hover {\n",
              "      background-color: #434B5C;\n",
              "      box-shadow: 0px 1px 3px 1px rgba(0, 0, 0, 0.15);\n",
              "      filter: drop-shadow(0px 1px 2px rgba(0, 0, 0, 0.3));\n",
              "      fill: #FFFFFF;\n",
              "    }\n",
              "  </style>\n",
              "\n",
              "      <script>\n",
              "        const buttonEl =\n",
              "          document.querySelector('#df-210a2add-3bda-40c3-922e-b3aaf3d4142e button.colab-df-convert');\n",
              "        buttonEl.style.display =\n",
              "          google.colab.kernel.accessAllowed ? 'block' : 'none';\n",
              "\n",
              "        async function convertToInteractive(key) {\n",
              "          const element = document.querySelector('#df-210a2add-3bda-40c3-922e-b3aaf3d4142e');\n",
              "          const dataTable =\n",
              "            await google.colab.kernel.invokeFunction('convertToInteractive',\n",
              "                                                     [key], {});\n",
              "          if (!dataTable) return;\n",
              "\n",
              "          const docLinkHtml = 'Like what you see? Visit the ' +\n",
              "            '<a target=\"_blank\" href=https://colab.research.google.com/notebooks/data_table.ipynb>data table notebook</a>'\n",
              "            + ' to learn more about interactive tables.';\n",
              "          element.innerHTML = '';\n",
              "          dataTable['output_type'] = 'display_data';\n",
              "          await google.colab.output.renderOutput(dataTable, element);\n",
              "          const docLink = document.createElement('div');\n",
              "          docLink.innerHTML = docLinkHtml;\n",
              "          element.appendChild(docLink);\n",
              "        }\n",
              "      </script>\n",
              "    </div>\n",
              "  </div>\n",
              "  "
            ]
          },
          "metadata": {},
          "execution_count": 36
        }
      ]
    },
    {
      "cell_type": "code",
      "source": [
        "#sns.histplot(Dataset_place['compound'])\n",
        "sns.histplot(Dataset_year['compound'])"
      ],
      "metadata": {
        "colab": {
          "base_uri": "https://localhost:8080/",
          "height": 296
        },
        "id": "nV5QcEN0mE_r",
        "outputId": "5f2e1b0b-eb2d-4d0e-9f2d-1c9ca308d862"
      },
      "execution_count": 11,
      "outputs": [
        {
          "output_type": "execute_result",
          "data": {
            "text/plain": [
              "<matplotlib.axes._subplots.AxesSubplot at 0x7fbf818101c0>"
            ]
          },
          "metadata": {},
          "execution_count": 11
        },
        {
          "output_type": "display_data",
          "data": {
            "text/plain": [
              "<Figure size 432x288 with 1 Axes>"
            ],
            "image/png": "[encoded data removed]"
          },
          "metadata": {
            "needs_background": "light"
          }
        }
      ]
    },
    {
      "cell_type": "code",
      "source": [
        "#sns.histplot(Dataset_place['pos'])\n",
        "sns.histplot(Dataset_year['pos'])"
      ],
      "metadata": {
        "colab": {
          "base_uri": "https://localhost:8080/",
          "height": 296
        },
        "id": "omyam-Ekp56n",
        "outputId": "f20c098a-955c-4726-bf46-79ef5d5b6cba"
      },
      "execution_count": 12,
      "outputs": [
        {
          "output_type": "execute_result",
          "data": {
            "text/plain": [
              "<matplotlib.axes._subplots.AxesSubplot at 0x7fbf822e6760>"
            ]
          },
          "metadata": {},
          "execution_count": 12
        },
        {
          "output_type": "display_data",
          "data": {
            "text/plain": [
              "<Figure size 432x288 with 1 Axes>"
            ],
            "image/png": "[encoded data removed]"
          },
          "metadata": {
            "needs_background": "light"
          }
        }
      ]
    },
    {
      "cell_type": "code",
      "source": [
        "#sns.histplot(Dataset_place['neu'])\n",
        "sns.histplot(Dataset_year['neu'])"
      ],
      "metadata": {
        "colab": {
          "base_uri": "https://localhost:8080/",
          "height": 296
        },
        "id": "H8_huIAKp-9D",
        "outputId": "88553bdc-81ce-4f6e-e4c2-2ba560cd7651"
      },
      "execution_count": 13,
      "outputs": [
        {
          "output_type": "execute_result",
          "data": {
            "text/plain": [
              "<matplotlib.axes._subplots.AxesSubplot at 0x7fbf8119dc40>"
            ]
          },
          "metadata": {},
          "execution_count": 13
        },
        {
          "output_type": "display_data",
          "data": {
            "text/plain": [
              "<Figure size 432x288 with 1 Axes>"
            ],
            "image/png": "[encoded data removed]"
          },
          "metadata": {
            "needs_background": "light"
          }
        }
      ]
    },
    {
      "cell_type": "code",
      "source": [
        "#sns.histplot(Dataset_place['neg'])\n",
        "sns.histplot(Dataset_year['neg'])"
      ],
      "metadata": {
        "colab": {
          "base_uri": "https://localhost:8080/",
          "height": 298
        },
        "id": "Fy7GLvPYp_bK",
        "outputId": "959da0fd-a894-4cb9-9df4-54561a7792d9"
      },
      "execution_count": 15,
      "outputs": [
        {
          "output_type": "execute_result",
          "data": {
            "text/plain": [
              "<matplotlib.axes._subplots.AxesSubplot at 0x7fbf812371c0>"
            ]
          },
          "metadata": {},
          "execution_count": 15
        },
        {
          "output_type": "display_data",
          "data": {
            "text/plain": [
              "<Figure size 432x288 with 1 Axes>"
            ],
            "image/png": "[encoded data removed]"
          },
          "metadata": {
            "needs_background": "light"
          }
        }
      ]
    },
    {
      "cell_type": "code",
      "source": [
        "neg_review = pd.DataFrame((Dataset_place['compound']<=0).groupby(Dataset_place['Hotel/Restaurant name']).sum()\n",
        "/Dataset_place['Hotel/Restaurant name'].groupby(Dataset_place['Hotel/Restaurant name']).count()*100,\n",
        "                      columns = ['% neg review']).sort_values(by = '% neg review')"
      ],
      "metadata": {
        "id": "ARzrxfDmsKZH"
      },
      "execution_count": 15,
      "outputs": []
    },
    {
      "cell_type": "code",
      "source": [
        "neg_review = pd.DataFrame((Dataset_year['compound']<=0).groupby(Dataset_year['Hotel/Restaurant name']).sum()\n",
        "/Dataset_year['Hotel/Restaurant name'].groupby(Dataset_year['Hotel/Restaurant name']).count()*100,\n",
        "                      columns = ['% neg review']).sort_values(by = '% neg review')"
      ],
      "metadata": {
        "id": "POU3XuSleMKn"
      },
      "execution_count": 16,
      "outputs": []
    },
    {
      "cell_type": "code",
      "source": [
        "neg_review"
      ],
      "metadata": {
        "colab": {
          "base_uri": "https://localhost:8080/",
          "height": 1000
        },
        "id": "HKtLl46Gwwx8",
        "outputId": "d418ecc6-3ea8-434d-cada-2ebdf515ab8c"
      },
      "execution_count": 17,
      "outputs": [
        {
          "output_type": "execute_result",
          "data": {
            "text/plain": [
              "                                     % neg review\n",
              "Hotel/Restaurant name                            \n",
              "9' Sea Breeze                            0.000000\n",
              "Naiyang Park Restaurant                  0.000000\n",
              "Highway Curry Indian & Thai Cuisine      0.000000\n",
              "Sam's Steaks and Grill                   0.000000\n",
              "The Tavern                               1.694915\n",
              "Odysseus Greek Organic Restaurant        1.694915\n",
              "Thong Dee The Kathu Brasserie            1.960784\n",
              "Kataturk Turkish Restaurant              2.173913\n",
              "The Corner Restaurant                    2.380952\n",
              "Siam Supper Club                         3.488372\n",
              "EAT. bar & grill                         3.750000\n",
              "Istanbul Turkish Restaurant              5.000000\n",
              "Rawai View Cafe' & Bar                   5.000000\n",
              "Delish Cafe                              6.666667\n",
              "La Gaetana                               6.666667\n",
              "The Green Man Pub                        8.333333\n",
              "Modena                                   9.090909\n",
              "Nok and Jo's Restaurant                  9.090909\n",
              "Little Paris                            10.000000\n",
              "Saffron at Banyan Tree Phuket           10.000000\n",
              "The Ship Inn                            11.764706\n",
              "Navrang Mahal                           11.764706\n",
              "Pad Thai Shop                           11.904762\n",
              "La Piazzetta di Capri Patong            13.333333\n",
              "The Red Tablecloth                      13.333333\n",
              "Sabai Beach Restaurant                  13.636364\n",
              "Bon Island Restaurant                   20.000000\n",
              "Uptown Restaurant                       21.428571\n",
              "Chaba                                   30.000000\n",
              "Mali Seafood Restaurant & Bar           42.857143"
            ],
            "text/html": [
              "\n",
              "  <div id=\"df-aa0033ea-b64a-47f9-a5c0-2eec67c4cd8b\">\n",
              "    <div class=\"colab-df-container\">\n",
              "      <div>\n",
              "<style scoped>\n",
              "    .dataframe tbody tr th:only-of-type {\n",
              "        vertical-align: middle;\n",
              "    }\n",
              "\n",
              "    .dataframe tbody tr th {\n",
              "        vertical-align: top;\n",
              "    }\n",
              "\n",
              "    .dataframe thead th {\n",
              "        text-align: right;\n",
              "    }\n",
              "</style>\n",
              "<table border=\"1\" class=\"dataframe\">\n",
              "  <thead>\n",
              "    <tr style=\"text-align: right;\">\n",
              "      <th></th>\n",
              "      <th>% neg review</th>\n",
              "    </tr>\n",
              "    <tr>\n",
              "      <th>Hotel/Restaurant name</th>\n",
              "      <th></th>\n",
              "    </tr>\n",
              "  </thead>\n",
              "  <tbody>\n",
              "    <tr>\n",
              "      <th>9' Sea Breeze</th>\n",
              "      <td>0.000000</td>\n",
              "    </tr>\n",
              "    <tr>\n",
              "      <th>Naiyang Park Restaurant</th>\n",
              "      <td>0.000000</td>\n",
              "    </tr>\n",
              "    <tr>\n",
              "      <th>Highway Curry Indian &amp; Thai Cuisine</th>\n",
              "      <td>0.000000</td>\n",
              "    </tr>\n",
              "    <tr>\n",
              "      <th>Sam's Steaks and Grill</th>\n",
              "      <td>0.000000</td>\n",
              "    </tr>\n",
              "    <tr>\n",
              "      <th>The Tavern</th>\n",
              "      <td>1.694915</td>\n",
              "    </tr>\n",
              "    <tr>\n",
              "      <th>Odysseus Greek Organic Restaurant</th>\n",
              "      <td>1.694915</td>\n",
              "    </tr>\n",
              "    <tr>\n",
              "      <th>Thong Dee The Kathu Brasserie</th>\n",
              "      <td>1.960784</td>\n",
              "    </tr>\n",
              "    <tr>\n",
              "      <th>Kataturk Turkish Restaurant</th>\n",
              "      <td>2.173913</td>\n",
              "    </tr>\n",
              "    <tr>\n",
              "      <th>The Corner Restaurant</th>\n",
              "      <td>2.380952</td>\n",
              "    </tr>\n",
              "    <tr>\n",
              "      <th>Siam Supper Club</th>\n",
              "      <td>3.488372</td>\n",
              "    </tr>\n",
              "    <tr>\n",
              "      <th>EAT. bar &amp; grill</th>\n",
              "      <td>3.750000</td>\n",
              "    </tr>\n",
              "    <tr>\n",
              "      <th>Istanbul Turkish Restaurant</th>\n",
              "      <td>5.000000</td>\n",
              "    </tr>\n",
              "    <tr>\n",
              "      <th>Rawai View Cafe' &amp; Bar</th>\n",
              "      <td>5.000000</td>\n",
              "    </tr>\n",
              "    <tr>\n",
              "      <th>Delish Cafe</th>\n",
              "      <td>6.666667</td>\n",
              "    </tr>\n",
              "    <tr>\n",
              "      <th>La Gaetana</th>\n",
              "      <td>6.666667</td>\n",
              "    </tr>\n",
              "    <tr>\n",
              "      <th>The Green Man Pub</th>\n",
              "      <td>8.333333</td>\n",
              "    </tr>\n",
              "    <tr>\n",
              "      <th>Modena</th>\n",
              "      <td>9.090909</td>\n",
              "    </tr>\n",
              "    <tr>\n",
              "      <th>Nok and Jo's Restaurant</th>\n",
              "      <td>9.090909</td>\n",
              "    </tr>\n",
              "    <tr>\n",
              "      <th>Little Paris</th>\n",
              "      <td>10.000000</td>\n",
              "    </tr>\n",
              "    <tr>\n",
              "      <th>Saffron at Banyan Tree Phuket</th>\n",
              "      <td>10.000000</td>\n",
              "    </tr>\n",
              "    <tr>\n",
              "      <th>The Ship Inn</th>\n",
              "      <td>11.764706</td>\n",
              "    </tr>\n",
              "    <tr>\n",
              "      <th>Navrang Mahal</th>\n",
              "      <td>11.764706</td>\n",
              "    </tr>\n",
              "    <tr>\n",
              "      <th>Pad Thai Shop</th>\n",
              "      <td>11.904762</td>\n",
              "    </tr>\n",
              "    <tr>\n",
              "      <th>La Piazzetta di Capri Patong</th>\n",
              "      <td>13.333333</td>\n",
              "    </tr>\n",
              "    <tr>\n",
              "      <th>The Red Tablecloth</th>\n",
              "      <td>13.333333</td>\n",
              "    </tr>\n",
              "    <tr>\n",
              "      <th>Sabai Beach Restaurant</th>\n",
              "      <td>13.636364</td>\n",
              "    </tr>\n",
              "    <tr>\n",
              "      <th>Bon Island Restaurant</th>\n",
              "      <td>20.000000</td>\n",
              "    </tr>\n",
              "    <tr>\n",
              "      <th>Uptown Restaurant</th>\n",
              "      <td>21.428571</td>\n",
              "    </tr>\n",
              "    <tr>\n",
              "      <th>Chaba</th>\n",
              "      <td>30.000000</td>\n",
              "    </tr>\n",
              "    <tr>\n",
              "      <th>Mali Seafood Restaurant &amp; Bar</th>\n",
              "      <td>42.857143</td>\n",
              "    </tr>\n",
              "  </tbody>\n",
              "</table>\n",
              "</div>\n",
              "      <button class=\"colab-df-convert\" onclick=\"convertToInteractive('df-aa0033ea-b64a-47f9-a5c0-2eec67c4cd8b')\"\n",
              "              title=\"Convert this dataframe to an interactive table.\"\n",
              "              style=\"display:none;\">\n",
              "        \n",
              "  <svg xmlns=\"http://www.w3.org/2000/svg\" height=\"24px\"viewBox=\"0 0 24 24\"\n",
              "       width=\"24px\">\n",
              "    <path d=\"M0 0h24v24H0V0z\" fill=\"none\"/>\n",
              "    <path d=\"M18.56 5.44l.94 2.06.94-2.06 2.06-.94-2.06-.94-.94-2.06-.94 2.06-2.06.94zm-11 1L8.5 8.5l.94-2.06 2.06-.94-2.06-.94L8.5 2.5l-.94 2.06-2.06.94zm10 10l.94 2.06.94-2.06 2.06-.94-2.06-.94-.94-2.06-.94 2.06-2.06.94z\"/><path d=\"M17.41 7.96l-1.37-1.37c-.4-.4-.92-.59-1.43-.59-.52 0-1.04.2-1.43.59L10.3 9.45l-7.72 7.72c-.78.78-.78 2.05 0 2.83L4 21.41c.39.39.9.59 1.41.59.51 0 1.02-.2 1.41-.59l7.78-7.78 2.81-2.81c.8-.78.8-2.07 0-2.86zM5.41 20L4 18.59l7.72-7.72 1.47 1.35L5.41 20z\"/>\n",
              "  </svg>\n",
              "      </button>\n",
              "      \n",
              "  <style>\n",
              "    .colab-df-container {\n",
              "      display:flex;\n",
              "      flex-wrap:wrap;\n",
              "      gap: 12px;\n",
              "    }\n",
              "\n",
              "    .colab-df-convert {\n",
              "      background-color: #E8F0FE;\n",
              "      border: none;\n",
              "      border-radius: 50%;\n",
              "      cursor: pointer;\n",
              "      display: none;\n",
              "      fill: #1967D2;\n",
              "      height: 32px;\n",
              "      padding: 0 0 0 0;\n",
              "      width: 32px;\n",
              "    }\n",
              "\n",
              "    .colab-df-convert:hover {\n",
              "      background-color: #E2EBFA;\n",
              "      box-shadow: 0px 1px 2px rgba(60, 64, 67, 0.3), 0px 1px 3px 1px rgba(60, 64, 67, 0.15);\n",
              "      fill: #174EA6;\n",
              "    }\n",
              "\n",
              "    [theme=dark] .colab-df-convert {\n",
              "      background-color: #3B4455;\n",
              "      fill: #D2E3FC;\n",
              "    }\n",
              "\n",
              "    [theme=dark] .colab-df-convert:hover {\n",
              "      background-color: #434B5C;\n",
              "      box-shadow: 0px 1px 3px 1px rgba(0, 0, 0, 0.15);\n",
              "      filter: drop-shadow(0px 1px 2px rgba(0, 0, 0, 0.3));\n",
              "      fill: #FFFFFF;\n",
              "    }\n",
              "  </style>\n",
              "\n",
              "      <script>\n",
              "        const buttonEl =\n",
              "          document.querySelector('#df-aa0033ea-b64a-47f9-a5c0-2eec67c4cd8b button.colab-df-convert');\n",
              "        buttonEl.style.display =\n",
              "          google.colab.kernel.accessAllowed ? 'block' : 'none';\n",
              "\n",
              "        async function convertToInteractive(key) {\n",
              "          const element = document.querySelector('#df-aa0033ea-b64a-47f9-a5c0-2eec67c4cd8b');\n",
              "          const dataTable =\n",
              "            await google.colab.kernel.invokeFunction('convertToInteractive',\n",
              "                                                     [key], {});\n",
              "          if (!dataTable) return;\n",
              "\n",
              "          const docLinkHtml = 'Like what you see? Visit the ' +\n",
              "            '<a target=\"_blank\" href=https://colab.research.google.com/notebooks/data_table.ipynb>data table notebook</a>'\n",
              "            + ' to learn more about interactive tables.';\n",
              "          element.innerHTML = '';\n",
              "          dataTable['output_type'] = 'display_data';\n",
              "          await google.colab.output.renderOutput(dataTable, element);\n",
              "          const docLink = document.createElement('div');\n",
              "          docLink.innerHTML = docLinkHtml;\n",
              "          element.appendChild(docLink);\n",
              "        }\n",
              "      </script>\n",
              "    </div>\n",
              "  </div>\n",
              "  "
            ]
          },
          "metadata": {},
          "execution_count": 17
        }
      ]
    },
    {
      "cell_type": "code",
      "source": [
        "sns.barplot(data = neg_review, x = '% neg review', y = neg_review.index, color = 'red' )"
      ],
      "metadata": {
        "colab": {
          "base_uri": "https://localhost:8080/",
          "height": 297
        },
        "id": "DLdCwnzh0i5T",
        "outputId": "b9d49bf3-a5a2-43cd-fafc-177aad140884"
      },
      "execution_count": 18,
      "outputs": [
        {
          "output_type": "execute_result",
          "data": {
            "text/plain": [
              "<matplotlib.axes._subplots.AxesSubplot at 0x7fbf80fd4100>"
            ]
          },
          "metadata": {},
          "execution_count": 18
        },
        {
          "output_type": "display_data",
          "data": {
            "text/plain": [
              "<Figure size 432x288 with 1 Axes>"
            ],
            "image/png": "[encoded data removed]"
          },
          "metadata": {
            "needs_background": "light"
          }
        }
      ]
    },
    {
      "cell_type": "code",
      "source": [],
      "metadata": {
        "id": "8rRzKeoa0i8_"
      },
      "execution_count": null,
      "outputs": []
    },
    {
      "cell_type": "code",
      "source": [],
      "metadata": {
        "id": "_-BnApOM0jAf"
      },
      "execution_count": null,
      "outputs": []
    }
  ]
}